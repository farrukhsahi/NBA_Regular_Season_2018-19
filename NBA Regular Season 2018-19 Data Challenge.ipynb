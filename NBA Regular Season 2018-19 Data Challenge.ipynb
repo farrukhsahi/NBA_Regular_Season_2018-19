{
 "cells": [
  {
   "cell_type": "markdown",
   "metadata": {},
   "source": [
    "# Nba Regular Season 2018-19 Data Challenge\n",
    "\n",
    "Your task will be to take the dataset given, and create an analysis answering the following 10 questions. This project will again test your knowledge of pandas in order to find the answers needed given the data you are presented with."
   ]
  },
  {
   "cell_type": "markdown",
   "metadata": {},
   "source": [
    "# What was the average age of player in the league?"
   ]
  },
  {
   "cell_type": "code",
   "execution_count": 11,
   "metadata": {},
   "outputs": [
    {
     "name": "stdout",
     "output_type": "stream",
     "text": [
      "The average age of players in the league is: 25.90 years\n"
     ]
    }
   ],
   "source": [
    "import pandas as pd\n",
    "\n",
    "# Loading data set in DataFrame\n",
    "nba_stats = pd.read_csv('nbastats2018-2019.csv')\n",
    "\n",
    "# Calculating the average age\n",
    "average_age = nba_stats['Age'].mean()\n",
    "\n",
    "print(f\"The average age of players in the league is: {average_age:.2f} years\")"
   ]
  },
  {
   "cell_type": "markdown",
   "metadata": {},
   "source": [
    "# What player scored the most points?"
   ]
  },
  {
   "cell_type": "code",
   "execution_count": 21,
   "metadata": {},
   "outputs": [
    {
     "name": "stdout",
     "output_type": "stream",
     "text": [
      "The player who scored the most points is James Harden with 36.1 points.\n"
     ]
    }
   ],
   "source": [
    "top_scorer = nba_stats.loc[nba_stats['Points'].idxmax()]\n",
    "\n",
    "print(f\"The player who scored the most points is {top_scorer['Name']} with {top_scorer['Points']} points.\")"
   ]
  },
  {
   "cell_type": "markdown",
   "metadata": {},
   "source": [
    "# What player had the most blocks during the season? Was it a post player (F/C)?"
   ]
  },
  {
   "cell_type": "code",
   "execution_count": 13,
   "metadata": {},
   "outputs": [
    {
     "name": "stdout",
     "output_type": "stream",
     "text": [
      "The player with the most blocks is Myles Turner with 2.7 blocks.\n"
     ]
    }
   ],
   "source": [
    "# Finding the player with the most blocks\n",
    "top_blocker = nba_stats.loc[nba_stats['Blocks'].idxmax()]\n",
    "\n",
    "print(f\"The player with the most blocks is {top_blocker['Name']} with {top_blocker['Blocks']} blocks.\")"
   ]
  },
  {
   "cell_type": "markdown",
   "metadata": {},
   "source": [
    "# Based on the regular season, who had the best chance to win a title given their win percentage?"
   ]
  },
  {
   "cell_type": "code",
   "execution_count": null,
   "metadata": {},
   "outputs": [],
   "source": [
    "# I could not understand/ calculate win percentage in the data provided. I need further guidance about it, please."
   ]
  },
  {
   "cell_type": "markdown",
   "metadata": {},
   "source": [
    "# What player had the best 3-pt percentage? "
   ]
  },
  {
   "cell_type": "code",
   "execution_count": 20,
   "metadata": {},
   "outputs": [
    {
     "name": "stdout",
     "output_type": "stream",
     "text": [
      "The player with the best 3-point percentage is Trevon Duval with a percentage of 100.00%.\n"
     ]
    }
   ],
   "source": [
    "best_3pt_player = nba_stats.loc[nba_stats['FG3%'].idxmax()]\n",
    "\n",
    "print(f\"The player with the best 3-point percentage is {best_3pt_player['Name']} with a percentage of {best_3pt_player['FG3%']:.2%}.\")"
   ]
  },
  {
   "cell_type": "markdown",
   "metadata": {},
   "source": [
    "# Who played the most minutes during the season"
   ]
  },
  {
   "cell_type": "code",
   "execution_count": 22,
   "metadata": {},
   "outputs": [
    {
     "name": "stdout",
     "output_type": "stream",
     "text": [
      "The player who played the most minutes during the season is Bradley Beal with 36.9 minutes.\n"
     ]
    }
   ],
   "source": [
    "most_minutes_player = nba_stats.loc[nba_stats['MP'].idxmax()]\n",
    "\n",
    "print(f\"The player who played the most minutes during the season is {most_minutes_player['Name']} with {most_minutes_player['MP']} minutes.\")"
   ]
  },
  {
   "cell_type": "markdown",
   "metadata": {},
   "source": [
    "# What player given their player effiecency rating was the clutchest during the season?"
   ]
  },
  {
   "cell_type": "code",
   "execution_count": 24,
   "metadata": {},
   "outputs": [
    {
     "name": "stdout",
     "output_type": "stream",
     "text": [
      "The player with the highest Player Effeciency Rating (PER) is Zhou Qi with a PER of 80.4\n"
     ]
    }
   ],
   "source": [
    "clutchest_player = nba_stats.loc[nba_stats['PER'].idxmax()]\n",
    "\n",
    "print(f\"The player with the highest Player Effeciency Rating (PER) is {clutchest_player['Name']} with a PER of {clutchest_player['PER']}\")"
   ]
  },
  {
   "cell_type": "markdown",
   "metadata": {},
   "source": [
    "# What team had the youngest roster?"
   ]
  },
  {
   "cell_type": "code",
   "execution_count": 25,
   "metadata": {},
   "outputs": [
    {
     "name": "stdout",
     "output_type": "stream",
     "text": [
      "The team with the youngest roster, on average, is Chicago Bulls.\n"
     ]
    }
   ],
   "source": [
    "# Calculating the average age of each team\n",
    "average_age_by_team = nba_stats.groupby('Team')['Age'].mean()\n",
    "\n",
    "# Finding the team with the youngest roster\n",
    "youngest_team = average_age_by_team.idxmin()\n",
    "\n",
    "print(f\"The team with the youngest roster, on average, is {youngest_team}.\")"
   ]
  },
  {
   "cell_type": "markdown",
   "metadata": {},
   "source": [
    "# Who is the highest paid player during the seasion?"
   ]
  },
  {
   "cell_type": "code",
   "execution_count": 34,
   "metadata": {},
   "outputs": [
    {
     "name": "stdout",
     "output_type": "stream",
     "text": [
      "The highest-paid player during the season is Stephen Curry with a salary of $37457154.0.\n"
     ]
    }
   ],
   "source": [
    "# Converting 'Salary' column to numeric\n",
    "nba_stats['Salary'] = pd.to_numeric(nba_stats['Salary'], errors='coerce')\n",
    "\n",
    "# Finding the highest-paid player\n",
    "highest_paid_player = nba_stats.loc[nba_stats['Salary'].idxmax()]\n",
    "\n",
    "print(f\"The highest-paid player during the season is {highest_paid_player['Name']} with a salary of ${highest_paid_player['Salary']}.\")"
   ]
  },
  {
   "cell_type": "markdown",
   "metadata": {},
   "source": [
    "# At the end of a game, who WOULDN'T you want on the Free Throw Line?"
   ]
  },
  {
   "cell_type": "code",
   "execution_count": 35,
   "metadata": {},
   "outputs": [
    {
     "name": "stdout",
     "output_type": "stream",
     "text": [
      "At the end of a game, you wouldn't want Jacob Evans on the Free Throw Line with a Free Throw Percentage of 0.00%.\n"
     ]
    }
   ],
   "source": [
    "# Finding the player with the lowest Free Throw Percentage\n",
    "worst_ft_shooter = nba_stats.loc[nba_stats['FT%'].idxmin()]\n",
    "\n",
    "print(f\"At the end of a game, you wouldn't want {worst_ft_shooter['Name']} on the Free Throw Line with a Free Throw Percentage of {worst_ft_shooter['FT%']:.2f}%.\")"
   ]
  }
 ],
 "metadata": {
  "kernelspec": {
   "display_name": "Python 3 (ipykernel)",
   "language": "python",
   "name": "python3"
  },
  "language_info": {
   "codemirror_mode": {
    "name": "ipython",
    "version": 3
   },
   "file_extension": ".py",
   "mimetype": "text/x-python",
   "name": "python",
   "nbconvert_exporter": "python",
   "pygments_lexer": "ipython3",
   "version": "3.11.4"
  }
 },
 "nbformat": 4,
 "nbformat_minor": 2
}
